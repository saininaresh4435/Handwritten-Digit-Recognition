{
 "cells": [
  {
   "cell_type": "code",
   "execution_count": 2,
   "metadata": {},
   "outputs": [],
   "source": [
    "from keras.utils import np_utils\n",
    "from keras.models import load_model\n",
    "import numpy as np\n",
    "import scipy.misc\n",
    "import os,glob,cv2,shutil,argparse,matplotlib\n",
    "import tensorflow as tf\n",
    "from PIL import Image"
   ]
  },
  {
   "cell_type": "code",
   "execution_count": 3,
   "metadata": {},
   "outputs": [
    {
     "name": "stdout",
     "output_type": "stream",
     "text": [
      "== Input details ==\n",
      "('shape:', array([ 1, 28, 28,  1], dtype=int32))\n",
      "('type:', <type 'numpy.float32'>)\n",
      "\n",
      "== Output details ==\n",
      "('shape:', array([ 1, 11], dtype=int32))\n",
      "('type:', <type 'numpy.float32'>)\n"
     ]
    }
   ],
   "source": [
    "TFLITE_MODEL=\"/home/naresh/Tarento/Build_Project/gujrat_sever/trained_resnet_model_v2_10.tflite\"\n",
    "\n",
    "tflite_interpreter = tf.lite.Interpreter(model_path=TFLITE_MODEL)\n",
    "tflite_interpreter.allocate_tensors()\n",
    "\n",
    "input_index = tflite_interpreter.get_input_details()\n",
    "output_index = tflite_interpreter.get_output_details()\n",
    "\n",
    "\n",
    "print(\"== Input details ==\")\n",
    "print(\"shape:\", input_index[0]['shape'])\n",
    "print(\"type:\", input_index[0]['dtype'])\n",
    "print(\"\\n== Output details ==\")\n",
    "print(\"shape:\", output_index[0]['shape'])\n",
    "print(\"type:\", output_index[0]['dtype'])"
   ]
  },
  {
   "cell_type": "code",
   "execution_count": 10,
   "metadata": {},
   "outputs": [],
   "source": [
    "model_path = \"/home/naresh/Tarento/Build_Project/gujrat_sever/hw_recognition_api/models/trained_resnet_model_v2_10.h5\"\n",
    "\n",
    "#model = tf.keras.models.load_model(\"/home/naresh/Tarento/Build_Project/gujrat_sever/hw_recognition_api/models/trained_resnet_model_v2_10.h5\")\n"
   ]
  },
  {
   "cell_type": "markdown",
   "metadata": {},
   "source": [
    "# benchmarking on digit level"
   ]
  },
  {
   "cell_type": "code",
   "execution_count": 3,
   "metadata": {},
   "outputs": [],
   "source": [
    "def pred_using_h5_digit(model,path):\n",
    "    result = {}\n",
    "    for img1 in sorted(glob.glob(path)):\n",
    "        img=cv2.imread(img1)\n",
    "        img= cv2.cvtColor(img, cv2.COLOR_BGR2GRAY)\n",
    "        img = img.astype('float32') / 255.\n",
    "        img=np.reshape(img,(1,28,28,1))\n",
    "        res=model.predict(img)\n",
    "        pred=res[0].argmax(axis=0)\n",
    "        ground = int(img1.split('/')[8])\n",
    "        name = img1.split('/')[9]\n",
    "        if pred!=ground:\n",
    "            result[name]=pred\n",
    "\n",
    "    return result"
   ]
  },
  {
   "cell_type": "code",
   "execution_count": 24,
   "metadata": {},
   "outputs": [],
   "source": [
    "path = \"/home/naresh/Tarento/Build_Project/handwritten_digit_recognition/testing_data/test/*/*.jpg\"\n",
    "result = pred_using_h5_digit(model,path)"
   ]
  },
  {
   "cell_type": "markdown",
   "metadata": {},
   "source": [
    "# benchmarking for roll number\n"
   ]
  },
  {
   "cell_type": "code",
   "execution_count": 7,
   "metadata": {},
   "outputs": [],
   "source": [
    "def pred_using_h5(model,path):\n",
    "    result = {}\n",
    "    for roll in glob.glob(path):\n",
    "        ground_roll = str(roll.split('/')[8])\n",
    "        pred_roll = \"\"\n",
    "        int_med_res = {}\n",
    "        for img1 in sorted(glob.glob(path.split('*')[0]+ground_roll+'/*.jpg')):\n",
    "            img=cv2.imread(img1)\n",
    "            img= cv2.cvtColor(img, cv2.COLOR_BGR2GRAY)\n",
    "            img = img.astype('float32') / 255.\n",
    "            img=np.reshape(img,(1,28,28,1))\n",
    "            res=model.predict(img)\n",
    "            pred=res[0].argmax(axis=0)\n",
    "            pred_roll=pred_roll+str(pred)\n",
    "            name = img1.split('/')[9]\n",
    "            int_med_res[name] = pred\n",
    "        if ground_roll==pred_roll:\n",
    "            result[ground_roll]=1\n",
    "        else:\n",
    "            print(ground_roll,  int_med_res)\n",
    "            result[ground_roll]=0\n",
    "\n",
    "    return result"
   ]
  },
  {
   "cell_type": "code",
   "execution_count": 4,
   "metadata": {},
   "outputs": [],
   "source": [
    "path = \"/home/naresh/Tarento/Build_Project/handwritten_digit_recognition/testing_data/site-data/*\"\n",
    "#result = pred_using_h5(model,path)"
   ]
  },
  {
   "cell_type": "code",
   "execution_count": 9,
   "metadata": {},
   "outputs": [
    {
     "data": {
      "text/plain": [
       "Counter({1: 2108, 0: 479})"
      ]
     },
     "execution_count": 9,
     "metadata": {},
     "output_type": "execute_result"
    }
   ],
   "source": [
    "from collections import Counter\n",
    "res = Counter(result.values())\n",
    "res\n"
   ]
  },
  {
   "cell_type": "code",
   "execution_count": null,
   "metadata": {},
   "outputs": [],
   "source": []
  },
  {
   "cell_type": "markdown",
   "metadata": {},
   "source": [
    "# test model using tflite model"
   ]
  },
  {
   "cell_type": "code",
   "execution_count": 68,
   "metadata": {},
   "outputs": [],
   "source": [
    "test_img_dir = \"/home/naresh/Tarento/Build_Project/gujrat_sever/test/9/*.jpg\"\n",
    "\n",
    "def test_tflite(img_path):\n",
    "    result = {}\n",
    "    wrong_count=0\n",
    "    for img1 in sorted(glob.glob(img_path)):\n",
    "        img=cv2.imread(img1)\n",
    "        img=cv2.resize(img,(28,28))\n",
    "        img= cv2.cvtColor(img, cv2.COLOR_BGR2GRAY)\n",
    "        img = np.array(img,dtype=np.float32) / 255.0\n",
    "        img=np.reshape(img,(1,28,28,1))\n",
    "        tflite_interpreter.set_tensor(input_index[0]['index'],img)\n",
    "        tflite_interpreter.invoke()\n",
    "        predictions = tflite_interpreter.get_tensor(output_index[0]['index'])\n",
    "        pred=predictions[0].argmax(axis=0)\n",
    "        label = img1.split(\"/8/\")[1]   ############## to get label of the image\n",
    "        if int(label)!=pred:\n",
    "            wrong_count+=1\n",
    "            result[label]=pred\n",
    "    accuracy = (len(glob.glob(img_path))-wrong_count)/len(glob.glob(img_path))\n",
    "    return result,accuracy\n",
    "    "
   ]
  },
  {
   "cell_type": "code",
   "execution_count": 69,
   "metadata": {},
   "outputs": [
    {
     "data": {
      "text/plain": [
       "69"
      ]
     },
     "execution_count": 69,
     "metadata": {},
     "output_type": "execute_result"
    }
   ],
   "source": [
    "result,accuracy = test_tflite(img_path)"
   ]
  },
  {
   "cell_type": "markdown",
   "metadata": {},
   "source": [
    "# Data Augmentation for visualization purpose"
   ]
  },
  {
   "cell_type": "code",
   "execution_count": 56,
   "metadata": {},
   "outputs": [],
   "source": [
    "#augmentation\n",
    "from keras.preprocessing.image import ImageDataGenerator, array_to_img, img_to_array, load_img\n",
    "image_dir = '/home/naresh/credentials/test_data2/*.jpg'\n",
    "save_dir  = '/home/naresh/credentials/test_data_augmented/'\n",
    "datagen = ImageDataGenerator(\n",
    "        rotation_range=30,\n",
    "        zoom_range=5,\n",
    "        width_shift_range=0.5,\n",
    "        height_shift_range=0.5,\n",
    "        shear_range=0.5,\n",
    "        fill_mode='nearest')\n",
    "for i in sorted(glob.glob(image_dir)):\n",
    "    img=load_img(i)\n",
    "    x = img_to_array(img)  # this is a Numpy array with shape (3, 150, 150)\n",
    "    x = x.reshape((1,) + x.shape)  # \n",
    "    j = 0\n",
    "    for batch in datagen.flow(x, batch_size=1,\n",
    "                              save_to_dir=save_dir, save_format='jpg'):\n",
    "        j += 1\n",
    "        if j > 3:\n",
    "            break  # otherwise the generator would loop indefinitely"
   ]
  },
  {
   "cell_type": "code",
   "execution_count": null,
   "metadata": {},
   "outputs": [],
   "source": []
  }
 ],
 "metadata": {
  "kernelspec": {
   "display_name": "text_recognition",
   "language": "python",
   "name": "text_recognition"
  },
  "language_info": {
   "codemirror_mode": {
    "name": "ipython",
    "version": 2
   },
   "file_extension": ".py",
   "mimetype": "text/x-python",
   "name": "python",
   "nbconvert_exporter": "python",
   "pygments_lexer": "ipython2",
   "version": "2.7.17"
  }
 },
 "nbformat": 4,
 "nbformat_minor": 4
}
